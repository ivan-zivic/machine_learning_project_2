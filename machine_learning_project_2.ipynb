{
 "cells": [
  {
   "cell_type": "code",
   "execution_count": 539,
   "id": "bridal-clinton",
   "metadata": {},
   "outputs": [],
   "source": [
    "import pandas as pd\n",
    "import seaborn as sns\n",
    "import numpy as np\n",
    "from sklearn.preprocessing import MinMaxScaler\n",
    "\n",
    "%matplotlib inline"
   ]
  },
  {
   "cell_type": "code",
   "execution_count": 524,
   "id": "fleet-waterproof",
   "metadata": {},
   "outputs": [
    {
     "data": {
      "text/html": [
       "<div>\n",
       "<style scoped>\n",
       "    .dataframe tbody tr th:only-of-type {\n",
       "        vertical-align: middle;\n",
       "    }\n",
       "\n",
       "    .dataframe tbody tr th {\n",
       "        vertical-align: top;\n",
       "    }\n",
       "\n",
       "    .dataframe thead th {\n",
       "        text-align: right;\n",
       "    }\n",
       "</style>\n",
       "<table border=\"1\" class=\"dataframe\">\n",
       "  <thead>\n",
       "    <tr style=\"text-align: right;\">\n",
       "      <th></th>\n",
       "      <th>Unnamed: 0</th>\n",
       "      <th>ID</th>\n",
       "      <th>Name</th>\n",
       "      <th>Age</th>\n",
       "      <th>Photo</th>\n",
       "      <th>Nationality</th>\n",
       "      <th>Flag</th>\n",
       "      <th>Overall</th>\n",
       "      <th>Potential</th>\n",
       "      <th>Club</th>\n",
       "      <th>...</th>\n",
       "      <th>Composure</th>\n",
       "      <th>Marking</th>\n",
       "      <th>StandingTackle</th>\n",
       "      <th>SlidingTackle</th>\n",
       "      <th>GKDiving</th>\n",
       "      <th>GKHandling</th>\n",
       "      <th>GKKicking</th>\n",
       "      <th>GKPositioning</th>\n",
       "      <th>GKReflexes</th>\n",
       "      <th>Release Clause</th>\n",
       "    </tr>\n",
       "  </thead>\n",
       "  <tbody>\n",
       "    <tr>\n",
       "      <th>0</th>\n",
       "      <td>0</td>\n",
       "      <td>158023</td>\n",
       "      <td>L. Messi</td>\n",
       "      <td>31.0</td>\n",
       "      <td>https://cdn.sofifa.org/players/4/19/158023.png</td>\n",
       "      <td>Argentina</td>\n",
       "      <td>https://cdn.sofifa.org/flags/52.png</td>\n",
       "      <td>94.0</td>\n",
       "      <td>94</td>\n",
       "      <td>FC Barcelona</td>\n",
       "      <td>...</td>\n",
       "      <td>96.0</td>\n",
       "      <td>33.0</td>\n",
       "      <td>28.0</td>\n",
       "      <td>26.0</td>\n",
       "      <td>6.0</td>\n",
       "      <td>11.0</td>\n",
       "      <td>15.0</td>\n",
       "      <td>14.0</td>\n",
       "      <td>8.0</td>\n",
       "      <td>�226.5M</td>\n",
       "    </tr>\n",
       "    <tr>\n",
       "      <th>1</th>\n",
       "      <td>1</td>\n",
       "      <td>20801</td>\n",
       "      <td>Cristiano Ronaldo</td>\n",
       "      <td>33.0</td>\n",
       "      <td>https://cdn.sofifa.org/players/4/19/20801.png</td>\n",
       "      <td>Portugal</td>\n",
       "      <td>https://cdn.sofifa.org/flags/38.png</td>\n",
       "      <td>94.0</td>\n",
       "      <td>94</td>\n",
       "      <td>Juventus</td>\n",
       "      <td>...</td>\n",
       "      <td>95.0</td>\n",
       "      <td>28.0</td>\n",
       "      <td>31.0</td>\n",
       "      <td>23.0</td>\n",
       "      <td>7.0</td>\n",
       "      <td>11.0</td>\n",
       "      <td>15.0</td>\n",
       "      <td>14.0</td>\n",
       "      <td>11.0</td>\n",
       "      <td>�127.1M</td>\n",
       "    </tr>\n",
       "    <tr>\n",
       "      <th>2</th>\n",
       "      <td>2</td>\n",
       "      <td>190871</td>\n",
       "      <td>Neymar Jr</td>\n",
       "      <td>26.0</td>\n",
       "      <td>https://cdn.sofifa.org/players/4/19/190871.png</td>\n",
       "      <td>Brazil</td>\n",
       "      <td>https://cdn.sofifa.org/flags/54.png</td>\n",
       "      <td>92.0</td>\n",
       "      <td>93</td>\n",
       "      <td>Paris Saint-Germain</td>\n",
       "      <td>...</td>\n",
       "      <td>94.0</td>\n",
       "      <td>27.0</td>\n",
       "      <td>24.0</td>\n",
       "      <td>33.0</td>\n",
       "      <td>9.0</td>\n",
       "      <td>9.0</td>\n",
       "      <td>15.0</td>\n",
       "      <td>15.0</td>\n",
       "      <td>11.0</td>\n",
       "      <td>�228.1M</td>\n",
       "    </tr>\n",
       "    <tr>\n",
       "      <th>3</th>\n",
       "      <td>3</td>\n",
       "      <td>193080</td>\n",
       "      <td>De Gea</td>\n",
       "      <td>27.0</td>\n",
       "      <td>https://cdn.sofifa.org/players/4/19/193080.png</td>\n",
       "      <td>Spain</td>\n",
       "      <td>https://cdn.sofifa.org/flags/45.png</td>\n",
       "      <td>91.0</td>\n",
       "      <td>93</td>\n",
       "      <td>Manchester United</td>\n",
       "      <td>...</td>\n",
       "      <td>68.0</td>\n",
       "      <td>15.0</td>\n",
       "      <td>21.0</td>\n",
       "      <td>13.0</td>\n",
       "      <td>90.0</td>\n",
       "      <td>85.0</td>\n",
       "      <td>87.0</td>\n",
       "      <td>88.0</td>\n",
       "      <td>94.0</td>\n",
       "      <td>�138.6M</td>\n",
       "    </tr>\n",
       "    <tr>\n",
       "      <th>4</th>\n",
       "      <td>4</td>\n",
       "      <td>192985</td>\n",
       "      <td>K. De Bruyne</td>\n",
       "      <td>27.0</td>\n",
       "      <td>https://cdn.sofifa.org/players/4/19/192985.png</td>\n",
       "      <td>Belgium</td>\n",
       "      <td>https://cdn.sofifa.org/flags/7.png</td>\n",
       "      <td>91.0</td>\n",
       "      <td>92</td>\n",
       "      <td>Manchester City</td>\n",
       "      <td>...</td>\n",
       "      <td>88.0</td>\n",
       "      <td>68.0</td>\n",
       "      <td>58.0</td>\n",
       "      <td>51.0</td>\n",
       "      <td>15.0</td>\n",
       "      <td>13.0</td>\n",
       "      <td>5.0</td>\n",
       "      <td>10.0</td>\n",
       "      <td>13.0</td>\n",
       "      <td>�196.4M</td>\n",
       "    </tr>\n",
       "  </tbody>\n",
       "</table>\n",
       "<p>5 rows × 89 columns</p>\n",
       "</div>"
      ],
      "text/plain": [
       "   Unnamed: 0      ID               Name   Age  \\\n",
       "0           0  158023           L. Messi  31.0   \n",
       "1           1   20801  Cristiano Ronaldo  33.0   \n",
       "2           2  190871          Neymar Jr  26.0   \n",
       "3           3  193080             De Gea  27.0   \n",
       "4           4  192985       K. De Bruyne  27.0   \n",
       "\n",
       "                                            Photo Nationality  \\\n",
       "0  https://cdn.sofifa.org/players/4/19/158023.png   Argentina   \n",
       "1   https://cdn.sofifa.org/players/4/19/20801.png    Portugal   \n",
       "2  https://cdn.sofifa.org/players/4/19/190871.png      Brazil   \n",
       "3  https://cdn.sofifa.org/players/4/19/193080.png       Spain   \n",
       "4  https://cdn.sofifa.org/players/4/19/192985.png     Belgium   \n",
       "\n",
       "                                  Flag  Overall  Potential  \\\n",
       "0  https://cdn.sofifa.org/flags/52.png     94.0         94   \n",
       "1  https://cdn.sofifa.org/flags/38.png     94.0         94   \n",
       "2  https://cdn.sofifa.org/flags/54.png     92.0         93   \n",
       "3  https://cdn.sofifa.org/flags/45.png     91.0         93   \n",
       "4   https://cdn.sofifa.org/flags/7.png     91.0         92   \n",
       "\n",
       "                  Club  ... Composure Marking StandingTackle  SlidingTackle  \\\n",
       "0         FC Barcelona  ...      96.0    33.0           28.0           26.0   \n",
       "1             Juventus  ...      95.0    28.0           31.0           23.0   \n",
       "2  Paris Saint-Germain  ...      94.0    27.0           24.0           33.0   \n",
       "3    Manchester United  ...      68.0    15.0           21.0           13.0   \n",
       "4      Manchester City  ...      88.0    68.0           58.0           51.0   \n",
       "\n",
       "  GKDiving  GKHandling  GKKicking  GKPositioning GKReflexes Release Clause  \n",
       "0      6.0        11.0       15.0           14.0        8.0        �226.5M  \n",
       "1      7.0        11.0       15.0           14.0       11.0        �127.1M  \n",
       "2      9.0         9.0       15.0           15.0       11.0        �228.1M  \n",
       "3     90.0        85.0       87.0           88.0       94.0        �138.6M  \n",
       "4     15.0        13.0        5.0           10.0       13.0        �196.4M  \n",
       "\n",
       "[5 rows x 89 columns]"
      ]
     },
     "execution_count": 524,
     "metadata": {},
     "output_type": "execute_result"
    }
   ],
   "source": [
    "df = pd.read_csv('kl.csv')\n",
    "df.head()"
   ]
  },
  {
   "cell_type": "code",
   "execution_count": 525,
   "id": "pleasant-victor",
   "metadata": {},
   "outputs": [
    {
     "data": {
      "text/plain": [
       "(18207, 89)"
      ]
     },
     "execution_count": 525,
     "metadata": {},
     "output_type": "execute_result"
    }
   ],
   "source": [
    "df.shape"
   ]
  },
  {
   "cell_type": "code",
   "execution_count": 526,
   "id": "asian-cooperation",
   "metadata": {},
   "outputs": [
    {
     "data": {
      "text/plain": [
       "Unnamed: 0        0.000000\n",
       "ID                0.000000\n",
       "Name              0.000000\n",
       "Age               0.000055\n",
       "Photo             0.000000\n",
       "                    ...   \n",
       "GKHandling        0.002636\n",
       "GKKicking         0.002636\n",
       "GKPositioning     0.002636\n",
       "GKReflexes        0.002636\n",
       "Release Clause    0.085901\n",
       "Length: 89, dtype: float64"
      ]
     },
     "execution_count": 526,
     "metadata": {},
     "output_type": "execute_result"
    }
   ],
   "source": [
    "df.isnull().mean()"
   ]
  },
  {
   "cell_type": "code",
   "execution_count": 527,
   "id": "starting-airline",
   "metadata": {},
   "outputs": [
    {
     "data": {
      "text/plain": [
       "<AxesSubplot:>"
      ]
     },
     "execution_count": 527,
     "metadata": {},
     "output_type": "execute_result"
    },
    {
     "data": {
      "image/png": "[encoded data removed]",
      "text/plain": [
       "<Figure size 432x288 with 1 Axes>"
      ]
     },
     "metadata": {
      "needs_background": "light"
     },
     "output_type": "display_data"
    }
   ],
   "source": [
    "sns.heatmap(df.isna(), cmap='viridis', yticklabels=False, cbar=None)"
   ]
  },
  {
   "cell_type": "code",
   "execution_count": 528,
   "id": "occupied-runner",
   "metadata": {},
   "outputs": [
    {
     "data": {
      "text/plain": [
       "['Loaned From']"
      ]
     },
     "execution_count": 528,
     "metadata": {},
     "output_type": "execute_result"
    }
   ],
   "source": [
    "def missing_values_boundry(df, missing_percentige):\n",
    "    \n",
    "    columns_with_missing_values_above_border = []\n",
    "    series = df.isna().mean()\n",
    "#     print(series)\n",
    "    for index in series.index:\n",
    "#         print(type(float(series[index])))\n",
    "        if series[index] > missing_percentige:\n",
    "            columns_with_missing_values_above_border.append(index)\n",
    "    return columns_with_missing_values_above_border\n",
    "#     for column in df.columns:\n",
    "        \n",
    "missing_values_boundry(df, 0.3)\n",
    "\n",
    "\n"
   ]
  },
  {
   "cell_type": "code",
   "execution_count": 529,
   "id": "fatal-review",
   "metadata": {},
   "outputs": [
    {
     "data": {
      "text/plain": [
       "0.9305761520294392"
      ]
     },
     "execution_count": 529,
     "metadata": {},
     "output_type": "execute_result"
    }
   ],
   "source": [
    "df['Loaned From'].isna().mean()"
   ]
  },
  {
   "cell_type": "code",
   "execution_count": 530,
   "id": "multiple-enlargement",
   "metadata": {},
   "outputs": [],
   "source": [
    "df.drop('Loaned From', axis=1, inplace=True)"
   ]
  },
  {
   "cell_type": "code",
   "execution_count": 531,
   "id": "instrumental-walker",
   "metadata": {},
   "outputs": [
    {
     "data": {
      "text/plain": [
       "Index(['Unnamed: 0', 'ID', 'Name', 'Age', 'Photo', 'Nationality', 'Flag',\n",
       "       'Overall', 'Potential', 'Club', 'Club Logo', 'Value', 'Wage', 'Special',\n",
       "       'Preferred Foot', 'International Reputation', 'Weak Foot',\n",
       "       'Skill Moves', 'Work Rate', 'Body Type', 'Real Face', 'Position',\n",
       "       'Jersey Number', 'Joined', 'Contract Valid Until', 'Height', 'Weight',\n",
       "       'LS', 'ST', 'RS', 'LW', 'LF', 'CF', 'RF', 'RW', 'LAM', 'CAM', 'RAM',\n",
       "       'LM', 'LCM', 'CM', 'RCM', 'RM', 'LWB', 'LDM', 'CDM', 'RDM', 'RWB', 'LB',\n",
       "       'LCB', 'CB', 'RCB', 'RB', 'Crossing', 'Finishing', 'HeadingAccuracy',\n",
       "       'ShortPassing', 'Volleys', 'Dribbling', 'Curve', 'FKAccuracy',\n",
       "       'LongPassing', 'BallControl', 'Acceleration', 'SprintSpeed', 'Agility',\n",
       "       'Reactions', 'Balance', 'ShotPower', 'Jumping', 'Stamina', 'Strength',\n",
       "       'LongShots', 'Aggression', 'Interceptions', 'Positioning', 'Vision',\n",
       "       'Penalties', 'Composure', 'Marking', 'StandingTackle', 'SlidingTackle',\n",
       "       'GKDiving', 'GKHandling', 'GKKicking', 'GKPositioning', 'GKReflexes',\n",
       "       'Release Clause'],\n",
       "      dtype='object')"
      ]
     },
     "execution_count": 531,
     "metadata": {},
     "output_type": "execute_result"
    }
   ],
   "source": [
    "df.columns"
   ]
  },
  {
   "cell_type": "code",
   "execution_count": 532,
   "id": "literary-surface",
   "metadata": {},
   "outputs": [
    {
     "name": "stdout",
     "output_type": "stream",
     "text": [
      "Broj kategorickih promenljivih: 44\n",
      "Broj numerickih promenljivih: 44\n"
     ]
    }
   ],
   "source": [
    "# podela promenljivih na numericke i kategoricke\n",
    "\n",
    "numeric = []\n",
    "categorical = []\n",
    "for column in df.columns:\n",
    "    if str(df[column].dtype) == 'object':\n",
    "        categorical.append(column)\n",
    "    else:\n",
    "        numeric.append(column)\n",
    "        \n",
    "numeric\n",
    "categorical\n",
    "\n",
    "len(numeric) + len(categorical)\n",
    "print('Broj kategorickih promenljivih:', len(categorical))\n",
    "print('Broj numerickih promenljivih:', len(numeric))"
   ]
  },
  {
   "cell_type": "code",
   "execution_count": 533,
   "id": "outstanding-extraction",
   "metadata": {},
   "outputs": [],
   "source": [
    "# zamena NaN vrednosti zeljenim metodom (mean, mode, median ili random sample imputation-om)\n",
    "\n",
    "def impute_value(df, variable, method='random sample'):\n",
    "\n",
    "    if method == 'mean':\n",
    "        df[variable].fillna(df[variable].mean(), inplace=True)\n",
    "    elif method == 'mode':\n",
    "        df[variable].fillna(df[variable].mode()[0], inplace=True)\n",
    "    elif method == 'median':\n",
    "        df[variable + '_median'] = df[variable].fillna(df[variable].median())\n",
    "    else:\n",
    "        df[variable + '_random_sample'] = df[variable]\n",
    "        random_sample = df[variable].dropna().sample(df[variable].isna().sum(), random_state=0)\n",
    "        random_sample.index = df.loc[df[variable].isna()].index\n",
    "        df.loc[df[variable].isna(), variable] = random_sample"
   ]
  },
  {
   "cell_type": "code",
   "execution_count": 534,
   "id": "hungarian-lawrence",
   "metadata": {},
   "outputs": [
    {
     "data": {
      "text/plain": [
       "['ID', 'Potential', 'Special']"
      ]
     },
     "execution_count": 534,
     "metadata": {},
     "output_type": "execute_result"
    }
   ],
   "source": [
    "def find_irq_outliers(values):\n",
    "    \n",
    "    outliers = []\n",
    "    sorted_values = sorted(values)\n",
    "    min, max = np.percentile(sorted_values, [25, 75])\n",
    "    irq_difference = max - min\n",
    "    upper_border = max + 1.5 * irq_difference\n",
    "    lower_border = min - 1.5 * irq_difference\n",
    "\n",
    "    for value in sorted_values:\n",
    "        if value < lower_border or value > upper_border:\n",
    "#         if upper_border < value < lower_border:\n",
    "            outliers.append(value)\n",
    "    return outliers\n",
    "        \n",
    "outlier_numeric_columns = []\n",
    "for numerical_variable in numeric:\n",
    "    if len(find_irq_outliers(df[numerical_variable])):\n",
    "        outlier_numeric_columns.append(numerical_variable)\n",
    "\n",
    "outlier_numeric_columns"
   ]
  },
  {
   "cell_type": "code",
   "execution_count": 535,
   "id": "serious-leader",
   "metadata": {},
   "outputs": [],
   "source": [
    "for variable in numeric:\n",
    "    if variable in outlier_numeric_columns:\n",
    "        impute_value(df, variable, 'median')\n",
    "        impute_value(df, variable)\n",
    "        standard_deviation_old_values = df[variable].std()\n",
    "        standard_deviation_median_values = df[variable + '_median'].std()\n",
    "        standard_deviation_random_sample = df[variable + '_random_sample'].std()\n",
    "        if abs(standard_deviation_median_values - standard_deviation_old_values) < abs(standard_deviation_random_sample - standard_deviation_old_values):\n",
    "            df[variable] = df[variable + '_median']\n",
    "        else:\n",
    "            df[variable] = df[variable + '_random_sample']\n",
    "        df.drop(columns=[variable + '_random_sample', variable + '_median'], inplace=True)\n",
    "\n",
    "    else:\n",
    "        impute_value(df, variable, 'mean')"
   ]
  },
  {
   "cell_type": "code",
   "execution_count": null,
   "id": "opposed-layer",
   "metadata": {},
   "outputs": [],
   "source": []
  },
  {
   "cell_type": "code",
   "execution_count": 536,
   "id": "pacific-basket",
   "metadata": {},
   "outputs": [
    {
     "data": {
      "text/plain": [
       "0"
      ]
     },
     "execution_count": 536,
     "metadata": {},
     "output_type": "execute_result"
    }
   ],
   "source": [
    "for categorical_variable in categorical:\n",
    "    impute_value(df, categorical_variable, 'mode')\n",
    "sum(df[categorical].isna().sum().values)"
   ]
  },
  {
   "cell_type": "code",
   "execution_count": 537,
   "id": "democratic-demand",
   "metadata": {},
   "outputs": [
    {
     "data": {
      "text/plain": [
       "0"
      ]
     },
     "execution_count": 537,
     "metadata": {},
     "output_type": "execute_result"
    }
   ],
   "source": [
    "sum(df[numeric].isna().sum().values)"
   ]
  },
  {
   "cell_type": "code",
   "execution_count": 538,
   "id": "recorded-element",
   "metadata": {},
   "outputs": [
    {
     "data": {
      "text/plain": [
       "<AxesSubplot:>"
      ]
     },
     "execution_count": 538,
     "metadata": {},
     "output_type": "execute_result"
    },
    {
     "data": {
      "image/png": "[encoded data removed]",
      "text/plain": [
       "<Figure size 432x288 with 1 Axes>"
      ]
     },
     "metadata": {
      "needs_background": "light"
     },
     "output_type": "display_data"
    }
   ],
   "source": [
    "sns.heatmap(df.isna(), cmap='viridis', yticklabels=False, cbar=None)"
   ]
  },
  {
   "cell_type": "code",
   "execution_count": 554,
   "id": "ancient-rocket",
   "metadata": {},
   "outputs": [
    {
     "data": {
      "text/html": [
       "<div>\n",
       "<style scoped>\n",
       "    .dataframe tbody tr th:only-of-type {\n",
       "        vertical-align: middle;\n",
       "    }\n",
       "\n",
       "    .dataframe tbody tr th {\n",
       "        vertical-align: top;\n",
       "    }\n",
       "\n",
       "    .dataframe thead th {\n",
       "        text-align: right;\n",
       "    }\n",
       "</style>\n",
       "<table border=\"1\" class=\"dataframe\">\n",
       "  <thead>\n",
       "    <tr style=\"text-align: right;\">\n",
       "      <th></th>\n",
       "      <th>Unnamed: 0</th>\n",
       "      <th>ID</th>\n",
       "      <th>Age</th>\n",
       "      <th>Overall</th>\n",
       "      <th>Potential</th>\n",
       "      <th>Special</th>\n",
       "      <th>International Reputation</th>\n",
       "      <th>Weak Foot</th>\n",
       "      <th>Skill Moves</th>\n",
       "      <th>Jersey Number</th>\n",
       "      <th>...</th>\n",
       "      <th>Penalties</th>\n",
       "      <th>Composure</th>\n",
       "      <th>Marking</th>\n",
       "      <th>StandingTackle</th>\n",
       "      <th>SlidingTackle</th>\n",
       "      <th>GKDiving</th>\n",
       "      <th>GKHandling</th>\n",
       "      <th>GKKicking</th>\n",
       "      <th>GKPositioning</th>\n",
       "      <th>GKReflexes</th>\n",
       "    </tr>\n",
       "  </thead>\n",
       "  <tbody>\n",
       "    <tr>\n",
       "      <th>0</th>\n",
       "      <td>0.000000</td>\n",
       "      <td>0.640732</td>\n",
       "      <td>0.517241</td>\n",
       "      <td>1.000000</td>\n",
       "      <td>0.978723</td>\n",
       "      <td>0.910836</td>\n",
       "      <td>1.00</td>\n",
       "      <td>0.75</td>\n",
       "      <td>0.75</td>\n",
       "      <td>0.091837</td>\n",
       "      <td>...</td>\n",
       "      <td>0.804598</td>\n",
       "      <td>1.000000</td>\n",
       "      <td>0.329670</td>\n",
       "      <td>0.285714</td>\n",
       "      <td>0.261364</td>\n",
       "      <td>0.056180</td>\n",
       "      <td>0.109890</td>\n",
       "      <td>0.155556</td>\n",
       "      <td>0.146067</td>\n",
       "      <td>0.075269</td>\n",
       "    </tr>\n",
       "    <tr>\n",
       "      <th>1</th>\n",
       "      <td>0.000055</td>\n",
       "      <td>0.084285</td>\n",
       "      <td>0.586207</td>\n",
       "      <td>1.000000</td>\n",
       "      <td>0.978723</td>\n",
       "      <td>0.926935</td>\n",
       "      <td>1.00</td>\n",
       "      <td>0.75</td>\n",
       "      <td>1.00</td>\n",
       "      <td>0.061224</td>\n",
       "      <td>...</td>\n",
       "      <td>0.919540</td>\n",
       "      <td>0.989247</td>\n",
       "      <td>0.274725</td>\n",
       "      <td>0.318681</td>\n",
       "      <td>0.227273</td>\n",
       "      <td>0.067416</td>\n",
       "      <td>0.109890</td>\n",
       "      <td>0.155556</td>\n",
       "      <td>0.146067</td>\n",
       "      <td>0.107527</td>\n",
       "    </tr>\n",
       "    <tr>\n",
       "      <th>2</th>\n",
       "      <td>0.000110</td>\n",
       "      <td>0.773933</td>\n",
       "      <td>0.344828</td>\n",
       "      <td>0.958333</td>\n",
       "      <td>0.957447</td>\n",
       "      <td>0.874303</td>\n",
       "      <td>1.00</td>\n",
       "      <td>1.00</td>\n",
       "      <td>1.00</td>\n",
       "      <td>0.091837</td>\n",
       "      <td>...</td>\n",
       "      <td>0.873563</td>\n",
       "      <td>0.978495</td>\n",
       "      <td>0.263736</td>\n",
       "      <td>0.241758</td>\n",
       "      <td>0.340909</td>\n",
       "      <td>0.089888</td>\n",
       "      <td>0.087912</td>\n",
       "      <td>0.155556</td>\n",
       "      <td>0.157303</td>\n",
       "      <td>0.107527</td>\n",
       "    </tr>\n",
       "    <tr>\n",
       "      <th>3</th>\n",
       "      <td>0.000165</td>\n",
       "      <td>0.782891</td>\n",
       "      <td>0.379310</td>\n",
       "      <td>0.937500</td>\n",
       "      <td>0.957447</td>\n",
       "      <td>0.458204</td>\n",
       "      <td>0.75</td>\n",
       "      <td>0.50</td>\n",
       "      <td>0.00</td>\n",
       "      <td>0.000000</td>\n",
       "      <td>...</td>\n",
       "      <td>0.402299</td>\n",
       "      <td>0.698925</td>\n",
       "      <td>0.131868</td>\n",
       "      <td>0.208791</td>\n",
       "      <td>0.113636</td>\n",
       "      <td>1.000000</td>\n",
       "      <td>0.923077</td>\n",
       "      <td>0.955556</td>\n",
       "      <td>0.977528</td>\n",
       "      <td>1.000000</td>\n",
       "    </tr>\n",
       "    <tr>\n",
       "      <th>4</th>\n",
       "      <td>0.000220</td>\n",
       "      <td>0.782506</td>\n",
       "      <td>0.379310</td>\n",
       "      <td>0.937500</td>\n",
       "      <td>0.936170</td>\n",
       "      <td>0.959752</td>\n",
       "      <td>0.75</td>\n",
       "      <td>1.00</td>\n",
       "      <td>0.75</td>\n",
       "      <td>0.061224</td>\n",
       "      <td>...</td>\n",
       "      <td>0.850575</td>\n",
       "      <td>0.913978</td>\n",
       "      <td>0.714286</td>\n",
       "      <td>0.615385</td>\n",
       "      <td>0.545455</td>\n",
       "      <td>0.157303</td>\n",
       "      <td>0.131868</td>\n",
       "      <td>0.044444</td>\n",
       "      <td>0.101124</td>\n",
       "      <td>0.129032</td>\n",
       "    </tr>\n",
       "  </tbody>\n",
       "</table>\n",
       "<p>5 rows × 44 columns</p>\n",
       "</div>"
      ],
      "text/plain": [
       "   Unnamed: 0        ID       Age   Overall  Potential   Special  \\\n",
       "0    0.000000  0.640732  0.517241  1.000000   0.978723  0.910836   \n",
       "1    0.000055  0.084285  0.586207  1.000000   0.978723  0.926935   \n",
       "2    0.000110  0.773933  0.344828  0.958333   0.957447  0.874303   \n",
       "3    0.000165  0.782891  0.379310  0.937500   0.957447  0.458204   \n",
       "4    0.000220  0.782506  0.379310  0.937500   0.936170  0.959752   \n",
       "\n",
       "   International Reputation  Weak Foot  Skill Moves  Jersey Number  ...  \\\n",
       "0                      1.00       0.75         0.75       0.091837  ...   \n",
       "1                      1.00       0.75         1.00       0.061224  ...   \n",
       "2                      1.00       1.00         1.00       0.091837  ...   \n",
       "3                      0.75       0.50         0.00       0.000000  ...   \n",
       "4                      0.75       1.00         0.75       0.061224  ...   \n",
       "\n",
       "   Penalties  Composure   Marking  StandingTackle  SlidingTackle  GKDiving  \\\n",
       "0   0.804598   1.000000  0.329670        0.285714       0.261364  0.056180   \n",
       "1   0.919540   0.989247  0.274725        0.318681       0.227273  0.067416   \n",
       "2   0.873563   0.978495  0.263736        0.241758       0.340909  0.089888   \n",
       "3   0.402299   0.698925  0.131868        0.208791       0.113636  1.000000   \n",
       "4   0.850575   0.913978  0.714286        0.615385       0.545455  0.157303   \n",
       "\n",
       "   GKHandling  GKKicking  GKPositioning  GKReflexes  \n",
       "0    0.109890   0.155556       0.146067    0.075269  \n",
       "1    0.109890   0.155556       0.146067    0.107527  \n",
       "2    0.087912   0.155556       0.157303    0.107527  \n",
       "3    0.923077   0.955556       0.977528    1.000000  \n",
       "4    0.131868   0.044444       0.101124    0.129032  \n",
       "\n",
       "[5 rows x 44 columns]"
      ]
     },
     "execution_count": 554,
     "metadata": {},
     "output_type": "execute_result"
    }
   ],
   "source": [
    "# Funkcija koja vrsi skaliranje promenljivih zeljenom metodom\n",
    "\n",
    "def feature_scaling(df, features, method):\n",
    "    \n",
    "    for feature in features:\n",
    "        scaled_feature = method.fit_transform(df[[feature]])\n",
    "        df[feature] = scaled_feature\n",
    "        \n",
    "feature_scaling(df, numeric, MinMaxScaler())\n",
    "\n",
    "df[numeric].head()"
   ]
  }
 ],
 "metadata": {
  "kernelspec": {
   "display_name": "Python 3",
   "language": "python",
   "name": "python3"
  },
  "language_info": {
   "codemirror_mode": {
    "name": "ipython",
    "version": 3
   },
   "file_extension": ".py",
   "mimetype": "text/x-python",
   "name": "python",
   "nbconvert_exporter": "python",
   "pygments_lexer": "ipython3",
   "version": "3.9.1"
  }
 },
 "nbformat": 4,
 "nbformat_minor": 5
}
